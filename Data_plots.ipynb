{
  "nbformat": 4,
  "nbformat_minor": 0,
  "metadata": {
    "colab": {
      "provenance": [],
      "mount_file_id": "1oTOFSLbSydSqU-YY-Xg4toJBx6BI0qDD",
      "authorship_tag": "ABX9TyP17pBkZbr3eZl5cv3m13ac",
      "include_colab_link": true
    },
    "kernelspec": {
      "name": "python3",
      "display_name": "Python 3"
    },
    "language_info": {
      "name": "python"
    }
  },
  "cells": [
    {
      "cell_type": "markdown",
      "metadata": {
        "id": "view-in-github",
        "colab_type": "text"
      },
      "source": [
        "<a href=\"https://colab.research.google.com/github/allakutkina/eggsplain/blob/main/Data_plots.ipynb\" target=\"_parent\"><img src=\"https://colab.research.google.com/assets/colab-badge.svg\" alt=\"Open In Colab\"/></a>"
      ]
    },
    {
      "cell_type": "code",
      "execution_count": null,
      "metadata": {
        "id": "gl6m-czByWZh"
      },
      "outputs": [],
      "source": [
        "import pandas as pd"
      ]
    },
    {
      "cell_type": "code",
      "source": [
        "train_data_path = '/content/drive/MyDrive/RedditHumorDetection/data/puns/train.tsv'\n",
        "dev_data_path = '/content/drive/MyDrive/RedditHumorDetection/data/puns/dev.tsv'\n",
        "train_data = pd.read_csv(train_data_path, sep=',', header=None, names=['ID', 'label', 'Sub', 'Text'])\n",
        "dev_data = pd.read_csv(dev_data_path, sep=',', header=None, names=['ID', 'label', 'Sub', 'Text'])"
      ],
      "metadata": {
        "id": "ir1a76Yyyg6-"
      },
      "execution_count": null,
      "outputs": []
    },
    {
      "cell_type": "code",
      "source": [],
      "metadata": {
        "id": "H5vGlGxaCbLn"
      },
      "execution_count": null,
      "outputs": []
    },
    {
      "cell_type": "code",
      "source": [
        "train_data['label'].value_counts()"
      ],
      "metadata": {
        "colab": {
          "base_uri": "https://localhost:8080/"
        },
        "id": "TBDJabLmy4gc",
        "outputId": "edc89dfb-fe32-4abc-a865-e1343199dace"
      },
      "execution_count": null,
      "outputs": [
        {
          "output_type": "execute_result",
          "data": {
            "text/plain": [
              "0    1810\n",
              "1    1809\n",
              "Name: label, dtype: int64"
            ]
          },
          "metadata": {},
          "execution_count": 68
        }
      ]
    },
    {
      "cell_type": "code",
      "source": [
        "dev_data['label'].value_counts()"
      ],
      "metadata": {
        "colab": {
          "base_uri": "https://localhost:8080/"
        },
        "id": "XriJC9yLzhDQ",
        "outputId": "c7134cc1-0eef-47ac-fc7b-6da104424e25"
      },
      "execution_count": null,
      "outputs": [
        {
          "output_type": "execute_result",
          "data": {
            "text/plain": [
              "1    307\n",
              "0    296\n",
              "Name: label, dtype: int64"
            ]
          },
          "metadata": {},
          "execution_count": 69
        }
      ]
    },
    {
      "cell_type": "code",
      "source": [
        "dev_data['text_length'] = dev_data['Text'].str.len()"
      ],
      "metadata": {
        "id": "_j4pH2rJkcJZ"
      },
      "execution_count": null,
      "outputs": []
    },
    {
      "cell_type": "code",
      "source": [
        "train_data['text_length']= train_data['Text'].str.len()"
      ],
      "metadata": {
        "id": "Q5c31WFKCcLS"
      },
      "execution_count": null,
      "outputs": []
    },
    {
      "cell_type": "code",
      "source": [
        "dev_data['text_length'].max()"
      ],
      "metadata": {
        "colab": {
          "base_uri": "https://localhost:8080/"
        },
        "id": "JRGVv9KqCjoc",
        "outputId": "4fdca053-f6c8-4e03-e8f4-20abd1b62f70"
      },
      "execution_count": null,
      "outputs": [
        {
          "output_type": "execute_result",
          "data": {
            "text/plain": [
              "187"
            ]
          },
          "metadata": {},
          "execution_count": 7
        }
      ]
    },
    {
      "cell_type": "code",
      "source": [
        "to_plot_pun = dev_data[['text_length','label']]"
      ],
      "metadata": {
        "id": "lYFwZYnOknV9"
      },
      "execution_count": null,
      "outputs": []
    },
    {
      "cell_type": "code",
      "source": [
        "sns.kdeplot(data=to_plot_pun, x=\"text_length\", hue=\"label\")"
      ],
      "metadata": {
        "colab": {
          "base_uri": "https://localhost:8080/",
          "height": 467
        },
        "id": "k2OEBMhnkWfk",
        "outputId": "91e82804-ff49-42ef-f0e1-ed24804ac5e0"
      },
      "execution_count": null,
      "outputs": [
        {
          "output_type": "execute_result",
          "data": {
            "text/plain": [
              "<Axes: xlabel='text_length', ylabel='Density'>"
            ]
          },
          "metadata": {},
          "execution_count": 72
        },
        {
          "output_type": "display_data",
          "data": {
            "text/plain": [
              "<Figure size 640x480 with 1 Axes>"
            ],
            "image/png": "[encoded data removed]"
          },
          "metadata": {}
        }
      ]
    },
    {
      "cell_type": "code",
      "source": [
        "plot = sns.scatterplot(data=to_plot_pun, x=\"text_length\", y=to_plot_pun.groupby('text_length').size(), hue=\"label\")\n",
        "plot.set_ylabel('frequency of lengths')"
      ],
      "metadata": {
        "colab": {
          "base_uri": "https://localhost:8080/",
          "height": 467
        },
        "id": "5tAhIUEXlC4S",
        "outputId": "2151ae41-02e6-4fbf-c357-4d810733519a"
      },
      "execution_count": null,
      "outputs": [
        {
          "output_type": "execute_result",
          "data": {
            "text/plain": [
              "Text(0, 0.5, 'frequency of lengths')"
            ]
          },
          "metadata": {},
          "execution_count": 50
        },
        {
          "output_type": "display_data",
          "data": {
            "text/plain": [
              "<Figure size 640x480 with 1 Axes>"
            ],
            "image/png": "[encoded data removed]"
          },
          "metadata": {}
        }
      ]
    },
    {
      "cell_type": "code",
      "source": [
        "plot = sns.scatterplot(data=to_plot, x=\"text_length\", y=to_plot_pun.groupby('text_length').size(), hue=\"label\")\n",
        "plot.set_ylabel('frequency of lengths')"
      ],
      "metadata": {
        "colab": {
          "base_uri": "https://localhost:8080/",
          "height": 467
        },
        "id": "XYPqLuPInR4E",
        "outputId": "57e8eb94-e804-432a-9667-d99731a01916"
      },
      "execution_count": null,
      "outputs": [
        {
          "output_type": "execute_result",
          "data": {
            "text/plain": [
              "Text(0, 0.5, 'frequency of lengths')"
            ]
          },
          "metadata": {},
          "execution_count": 51
        },
        {
          "output_type": "display_data",
          "data": {
            "text/plain": [
              "<Figure size 640x480 with 1 Axes>"
            ],
            "image/png": "[encoded data removed]"
          },
          "metadata": {}
        }
      ]
    },
    {
      "cell_type": "code",
      "source": [
        "to_plot_pun.groupby('label').get_group(False)"
      ],
      "metadata": {
        "colab": {
          "base_uri": "https://localhost:8080/",
          "height": 424
        },
        "id": "KYtQCqF_lmTr",
        "outputId": "7f2f4ee8-0d20-4409-c3d9-c19f646de64f"
      },
      "execution_count": null,
      "outputs": [
        {
          "output_type": "execute_result",
          "data": {
            "text/plain": [
              "      text_length  label\n",
              "0              65      0\n",
              "5              40      0\n",
              "8              89      0\n",
              "13             51      0\n",
              "15             81      0\n",
              "...           ...    ...\n",
              "3609           48      0\n",
              "3611          152      0\n",
              "3614           94      0\n",
              "3615           54      0\n",
              "3618           70      0\n",
              "\n",
              "[1810 rows x 2 columns]"
            ],
            "text/html": [
              "\n",
              "  <div id=\"df-0bbe7718-b94d-43d7-bf09-77eca636a7f9\" class=\"colab-df-container\">\n",
              "    <div>\n",
              "<style scoped>\n",
              "    .dataframe tbody tr th:only-of-type {\n",
              "        vertical-align: middle;\n",
              "    }\n",
              "\n",
              "    .dataframe tbody tr th {\n",
              "        vertical-align: top;\n",
              "    }\n",
              "\n",
              "    .dataframe thead th {\n",
              "        text-align: right;\n",
              "    }\n",
              "</style>\n",
              "<table border=\"1\" class=\"dataframe\">\n",
              "  <thead>\n",
              "    <tr style=\"text-align: right;\">\n",
              "      <th></th>\n",
              "      <th>text_length</th>\n",
              "      <th>label</th>\n",
              "    </tr>\n",
              "  </thead>\n",
              "  <tbody>\n",
              "    <tr>\n",
              "      <th>0</th>\n",
              "      <td>65</td>\n",
              "      <td>0</td>\n",
              "    </tr>\n",
              "    <tr>\n",
              "      <th>5</th>\n",
              "      <td>40</td>\n",
              "      <td>0</td>\n",
              "    </tr>\n",
              "    <tr>\n",
              "      <th>8</th>\n",
              "      <td>89</td>\n",
              "      <td>0</td>\n",
              "    </tr>\n",
              "    <tr>\n",
              "      <th>13</th>\n",
              "      <td>51</td>\n",
              "      <td>0</td>\n",
              "    </tr>\n",
              "    <tr>\n",
              "      <th>15</th>\n",
              "      <td>81</td>\n",
              "      <td>0</td>\n",
              "    </tr>\n",
              "    <tr>\n",
              "      <th>...</th>\n",
              "      <td>...</td>\n",
              "      <td>...</td>\n",
              "    </tr>\n",
              "    <tr>\n",
              "      <th>3609</th>\n",
              "      <td>48</td>\n",
              "      <td>0</td>\n",
              "    </tr>\n",
              "    <tr>\n",
              "      <th>3611</th>\n",
              "      <td>152</td>\n",
              "      <td>0</td>\n",
              "    </tr>\n",
              "    <tr>\n",
              "      <th>3614</th>\n",
              "      <td>94</td>\n",
              "      <td>0</td>\n",
              "    </tr>\n",
              "    <tr>\n",
              "      <th>3615</th>\n",
              "      <td>54</td>\n",
              "      <td>0</td>\n",
              "    </tr>\n",
              "    <tr>\n",
              "      <th>3618</th>\n",
              "      <td>70</td>\n",
              "      <td>0</td>\n",
              "    </tr>\n",
              "  </tbody>\n",
              "</table>\n",
              "<p>1810 rows × 2 columns</p>\n",
              "</div>\n",
              "    <div class=\"colab-df-buttons\">\n",
              "\n",
              "  <div class=\"colab-df-container\">\n",
              "    <button class=\"colab-df-convert\" onclick=\"convertToInteractive('df-0bbe7718-b94d-43d7-bf09-77eca636a7f9')\"\n",
              "            title=\"Convert this dataframe to an interactive table.\"\n",
              "            style=\"display:none;\">\n",
              "\n",
              "  <svg xmlns=\"http://www.w3.org/2000/svg\" height=\"24px\" viewBox=\"0 -960 960 960\">\n",
              "    <path d=\"M120-120v-720h720v720H120Zm60-500h600v-160H180v160Zm220 220h160v-160H400v160Zm0 220h160v-160H400v160ZM180-400h160v-160H180v160Zm440 0h160v-160H620v160ZM180-180h160v-160H180v160Zm440 0h160v-160H620v160Z\"/>\n",
              "  </svg>\n",
              "    </button>\n",
              "\n",
              "  <style>\n",
              "    .colab-df-container {\n",
              "      display:flex;\n",
              "      gap: 12px;\n",
              "    }\n",
              "\n",
              "    .colab-df-convert {\n",
              "      background-color: #E8F0FE;\n",
              "      border: none;\n",
              "      border-radius: 50%;\n",
              "      cursor: pointer;\n",
              "      display: none;\n",
              "      fill: #1967D2;\n",
              "      height: 32px;\n",
              "      padding: 0 0 0 0;\n",
              "      width: 32px;\n",
              "    }\n",
              "\n",
              "    .colab-df-convert:hover {\n",
              "      background-color: #E2EBFA;\n",
              "      box-shadow: 0px 1px 2px rgba(60, 64, 67, 0.3), 0px 1px 3px 1px rgba(60, 64, 67, 0.15);\n",
              "      fill: #174EA6;\n",
              "    }\n",
              "\n",
              "    .colab-df-buttons div {\n",
              "      margin-bottom: 4px;\n",
              "    }\n",
              "\n",
              "    [theme=dark] .colab-df-convert {\n",
              "      background-color: #3B4455;\n",
              "      fill: #D2E3FC;\n",
              "    }\n",
              "\n",
              "    [theme=dark] .colab-df-convert:hover {\n",
              "      background-color: #434B5C;\n",
              "      box-shadow: 0px 1px 3px 1px rgba(0, 0, 0, 0.15);\n",
              "      filter: drop-shadow(0px 1px 2px rgba(0, 0, 0, 0.3));\n",
              "      fill: #FFFFFF;\n",
              "    }\n",
              "  </style>\n",
              "\n",
              "    <script>\n",
              "      const buttonEl =\n",
              "        document.querySelector('#df-0bbe7718-b94d-43d7-bf09-77eca636a7f9 button.colab-df-convert');\n",
              "      buttonEl.style.display =\n",
              "        google.colab.kernel.accessAllowed ? 'block' : 'none';\n",
              "\n",
              "      async function convertToInteractive(key) {\n",
              "        const element = document.querySelector('#df-0bbe7718-b94d-43d7-bf09-77eca636a7f9');\n",
              "        const dataTable =\n",
              "          await google.colab.kernel.invokeFunction('convertToInteractive',\n",
              "                                                    [key], {});\n",
              "        if (!dataTable) return;\n",
              "\n",
              "        const docLinkHtml = 'Like what you see? Visit the ' +\n",
              "          '<a target=\"_blank\" href=https://colab.research.google.com/notebooks/data_table.ipynb>data table notebook</a>'\n",
              "          + ' to learn more about interactive tables.';\n",
              "        element.innerHTML = '';\n",
              "        dataTable['output_type'] = 'display_data';\n",
              "        await google.colab.output.renderOutput(dataTable, element);\n",
              "        const docLink = document.createElement('div');\n",
              "        docLink.innerHTML = docLinkHtml;\n",
              "        element.appendChild(docLink);\n",
              "      }\n",
              "    </script>\n",
              "  </div>\n",
              "\n",
              "\n",
              "<div id=\"df-214b9587-7dfe-443a-81f4-77fa94355ffc\">\n",
              "  <button class=\"colab-df-quickchart\" onclick=\"quickchart('df-214b9587-7dfe-443a-81f4-77fa94355ffc')\"\n",
              "            title=\"Suggest charts.\"\n",
              "            style=\"display:none;\">\n",
              "\n",
              "<svg xmlns=\"http://www.w3.org/2000/svg\" height=\"24px\"viewBox=\"0 0 24 24\"\n",
              "     width=\"24px\">\n",
              "    <g>\n",
              "        <path d=\"M19 3H5c-1.1 0-2 .9-2 2v14c0 1.1.9 2 2 2h14c1.1 0 2-.9 2-2V5c0-1.1-.9-2-2-2zM9 17H7v-7h2v7zm4 0h-2V7h2v10zm4 0h-2v-4h2v4z\"/>\n",
              "    </g>\n",
              "</svg>\n",
              "  </button>\n",
              "\n",
              "<style>\n",
              "  .colab-df-quickchart {\n",
              "      --bg-color: #E8F0FE;\n",
              "      --fill-color: #1967D2;\n",
              "      --hover-bg-color: #E2EBFA;\n",
              "      --hover-fill-color: #174EA6;\n",
              "      --disabled-fill-color: #AAA;\n",
              "      --disabled-bg-color: #DDD;\n",
              "  }\n",
              "\n",
              "  [theme=dark] .colab-df-quickchart {\n",
              "      --bg-color: #3B4455;\n",
              "      --fill-color: #D2E3FC;\n",
              "      --hover-bg-color: #434B5C;\n",
              "      --hover-fill-color: #FFFFFF;\n",
              "      --disabled-bg-color: #3B4455;\n",
              "      --disabled-fill-color: #666;\n",
              "  }\n",
              "\n",
              "  .colab-df-quickchart {\n",
              "    background-color: var(--bg-color);\n",
              "    border: none;\n",
              "    border-radius: 50%;\n",
              "    cursor: pointer;\n",
              "    display: none;\n",
              "    fill: var(--fill-color);\n",
              "    height: 32px;\n",
              "    padding: 0;\n",
              "    width: 32px;\n",
              "  }\n",
              "\n",
              "  .colab-df-quickchart:hover {\n",
              "    background-color: var(--hover-bg-color);\n",
              "    box-shadow: 0 1px 2px rgba(60, 64, 67, 0.3), 0 1px 3px 1px rgba(60, 64, 67, 0.15);\n",
              "    fill: var(--button-hover-fill-color);\n",
              "  }\n",
              "\n",
              "  .colab-df-quickchart-complete:disabled,\n",
              "  .colab-df-quickchart-complete:disabled:hover {\n",
              "    background-color: var(--disabled-bg-color);\n",
              "    fill: var(--disabled-fill-color);\n",
              "    box-shadow: none;\n",
              "  }\n",
              "\n",
              "  .colab-df-spinner {\n",
              "    border: 2px solid var(--fill-color);\n",
              "    border-color: transparent;\n",
              "    border-bottom-color: var(--fill-color);\n",
              "    animation:\n",
              "      spin 1s steps(1) infinite;\n",
              "  }\n",
              "\n",
              "  @keyframes spin {\n",
              "    0% {\n",
              "      border-color: transparent;\n",
              "      border-bottom-color: var(--fill-color);\n",
              "      border-left-color: var(--fill-color);\n",
              "    }\n",
              "    20% {\n",
              "      border-color: transparent;\n",
              "      border-left-color: var(--fill-color);\n",
              "      border-top-color: var(--fill-color);\n",
              "    }\n",
              "    30% {\n",
              "      border-color: transparent;\n",
              "      border-left-color: var(--fill-color);\n",
              "      border-top-color: var(--fill-color);\n",
              "      border-right-color: var(--fill-color);\n",
              "    }\n",
              "    40% {\n",
              "      border-color: transparent;\n",
              "      border-right-color: var(--fill-color);\n",
              "      border-top-color: var(--fill-color);\n",
              "    }\n",
              "    60% {\n",
              "      border-color: transparent;\n",
              "      border-right-color: var(--fill-color);\n",
              "    }\n",
              "    80% {\n",
              "      border-color: transparent;\n",
              "      border-right-color: var(--fill-color);\n",
              "      border-bottom-color: var(--fill-color);\n",
              "    }\n",
              "    90% {\n",
              "      border-color: transparent;\n",
              "      border-bottom-color: var(--fill-color);\n",
              "    }\n",
              "  }\n",
              "</style>\n",
              "\n",
              "  <script>\n",
              "    async function quickchart(key) {\n",
              "      const quickchartButtonEl =\n",
              "        document.querySelector('#' + key + ' button');\n",
              "      quickchartButtonEl.disabled = true;  // To prevent multiple clicks.\n",
              "      quickchartButtonEl.classList.add('colab-df-spinner');\n",
              "      try {\n",
              "        const charts = await google.colab.kernel.invokeFunction(\n",
              "            'suggestCharts', [key], {});\n",
              "      } catch (error) {\n",
              "        console.error('Error during call to suggestCharts:', error);\n",
              "      }\n",
              "      quickchartButtonEl.classList.remove('colab-df-spinner');\n",
              "      quickchartButtonEl.classList.add('colab-df-quickchart-complete');\n",
              "    }\n",
              "    (() => {\n",
              "      let quickchartButtonEl =\n",
              "        document.querySelector('#df-214b9587-7dfe-443a-81f4-77fa94355ffc button');\n",
              "      quickchartButtonEl.style.display =\n",
              "        google.colab.kernel.accessAllowed ? 'block' : 'none';\n",
              "    })();\n",
              "  </script>\n",
              "</div>\n",
              "    </div>\n",
              "  </div>\n"
            ]
          },
          "metadata": {},
          "execution_count": 44
        }
      ]
    },
    {
      "cell_type": "code",
      "source": [],
      "metadata": {
        "id": "dfSwaA-lldhv"
      },
      "execution_count": null,
      "outputs": []
    },
    {
      "cell_type": "code",
      "source": [
        "sns.scatterplot(data = to_plot_pun)"
      ],
      "metadata": {
        "id": "2HJKFZiuk88w"
      },
      "execution_count": null,
      "outputs": []
    },
    {
      "cell_type": "code",
      "source": [],
      "metadata": {
        "id": "9RbY7ULZkbyw"
      },
      "execution_count": null,
      "outputs": []
    },
    {
      "cell_type": "code",
      "source": [
        "train_data_path = '/content/drive/MyDrive/RedditHumorDetection/data/short_jokes/train.tsv'\n",
        "dev_data_path = '/content/drive/MyDrive/RedditHumorDetection/data/short_jokes/dev.tsv'\n",
        "train_data_sj = pd.read_csv(train_data_path, sep=',', header=None, names=['ID', 'label', 'Sub', 'Text'], index_col = 'ID')\n",
        "dev_data_sj = pd.read_csv(dev_data_path, sep=',', header=None, names=['ID', 'label', 'Sub', 'Text'])"
      ],
      "metadata": {
        "id": "TxRrwfot5Cmn"
      },
      "execution_count": null,
      "outputs": []
    },
    {
      "cell_type": "code",
      "source": [
        "train_data_sj['label'].value_counts()"
      ],
      "metadata": {
        "colab": {
          "base_uri": "https://localhost:8080/"
        },
        "id": "To0J11_4zki_",
        "outputId": "ce58a409-a97e-4121-be97-16f06ec113be"
      },
      "execution_count": null,
      "outputs": [
        {
          "output_type": "execute_result",
          "data": {
            "text/plain": [
              "0    173851\n",
              "1    173635\n",
              "Name: label, dtype: int64"
            ]
          },
          "metadata": {},
          "execution_count": 4
        }
      ]
    },
    {
      "cell_type": "code",
      "source": [
        "dev_data_sj['text_length'] = dev_data_sj['Text'].str.len()"
      ],
      "metadata": {
        "id": "qFkDpgnc51eP"
      },
      "execution_count": null,
      "outputs": []
    },
    {
      "cell_type": "code",
      "source": [
        "dev_data_sj.describe()"
      ],
      "metadata": {
        "id": "Ecm3IXS78JH8",
        "colab": {
          "base_uri": "https://localhost:8080/",
          "height": 300
        },
        "outputId": "0e71211a-748c-4046-8a48-6c3f9328e4bc"
      },
      "execution_count": null,
      "outputs": [
        {
          "output_type": "execute_result",
          "data": {
            "text/plain": [
              "                 ID         label   text_length\n",
              "count  57914.000000  57914.000000  57914.000000\n",
              "mean   28956.500000      0.501727    105.152191\n",
              "std    16718.476082      0.500001     64.153310\n",
              "min        0.000000      0.000000      3.000000\n",
              "25%    14478.250000      0.000000     64.000000\n",
              "50%    28956.500000      1.000000     95.000000\n",
              "75%    43434.750000      1.000000    134.000000\n",
              "max    57913.000000      1.000000   5206.000000"
            ],
            "text/html": [
              "\n",
              "  <div id=\"df-6ac3e50d-b084-45a5-b55d-82227adc32ea\" class=\"colab-df-container\">\n",
              "    <div>\n",
              "<style scoped>\n",
              "    .dataframe tbody tr th:only-of-type {\n",
              "        vertical-align: middle;\n",
              "    }\n",
              "\n",
              "    .dataframe tbody tr th {\n",
              "        vertical-align: top;\n",
              "    }\n",
              "\n",
              "    .dataframe thead th {\n",
              "        text-align: right;\n",
              "    }\n",
              "</style>\n",
              "<table border=\"1\" class=\"dataframe\">\n",
              "  <thead>\n",
              "    <tr style=\"text-align: right;\">\n",
              "      <th></th>\n",
              "      <th>ID</th>\n",
              "      <th>label</th>\n",
              "      <th>text_length</th>\n",
              "    </tr>\n",
              "  </thead>\n",
              "  <tbody>\n",
              "    <tr>\n",
              "      <th>count</th>\n",
              "      <td>57914.000000</td>\n",
              "      <td>57914.000000</td>\n",
              "      <td>57914.000000</td>\n",
              "    </tr>\n",
              "    <tr>\n",
              "      <th>mean</th>\n",
              "      <td>28956.500000</td>\n",
              "      <td>0.501727</td>\n",
              "      <td>105.152191</td>\n",
              "    </tr>\n",
              "    <tr>\n",
              "      <th>std</th>\n",
              "      <td>16718.476082</td>\n",
              "      <td>0.500001</td>\n",
              "      <td>64.153310</td>\n",
              "    </tr>\n",
              "    <tr>\n",
              "      <th>min</th>\n",
              "      <td>0.000000</td>\n",
              "      <td>0.000000</td>\n",
              "      <td>3.000000</td>\n",
              "    </tr>\n",
              "    <tr>\n",
              "      <th>25%</th>\n",
              "      <td>14478.250000</td>\n",
              "      <td>0.000000</td>\n",
              "      <td>64.000000</td>\n",
              "    </tr>\n",
              "    <tr>\n",
              "      <th>50%</th>\n",
              "      <td>28956.500000</td>\n",
              "      <td>1.000000</td>\n",
              "      <td>95.000000</td>\n",
              "    </tr>\n",
              "    <tr>\n",
              "      <th>75%</th>\n",
              "      <td>43434.750000</td>\n",
              "      <td>1.000000</td>\n",
              "      <td>134.000000</td>\n",
              "    </tr>\n",
              "    <tr>\n",
              "      <th>max</th>\n",
              "      <td>57913.000000</td>\n",
              "      <td>1.000000</td>\n",
              "      <td>5206.000000</td>\n",
              "    </tr>\n",
              "  </tbody>\n",
              "</table>\n",
              "</div>\n",
              "    <div class=\"colab-df-buttons\">\n",
              "\n",
              "  <div class=\"colab-df-container\">\n",
              "    <button class=\"colab-df-convert\" onclick=\"convertToInteractive('df-6ac3e50d-b084-45a5-b55d-82227adc32ea')\"\n",
              "            title=\"Convert this dataframe to an interactive table.\"\n",
              "            style=\"display:none;\">\n",
              "\n",
              "  <svg xmlns=\"http://www.w3.org/2000/svg\" height=\"24px\" viewBox=\"0 -960 960 960\">\n",
              "    <path d=\"M120-120v-720h720v720H120Zm60-500h600v-160H180v160Zm220 220h160v-160H400v160Zm0 220h160v-160H400v160ZM180-400h160v-160H180v160Zm440 0h160v-160H620v160ZM180-180h160v-160H180v160Zm440 0h160v-160H620v160Z\"/>\n",
              "  </svg>\n",
              "    </button>\n",
              "\n",
              "  <style>\n",
              "    .colab-df-container {\n",
              "      display:flex;\n",
              "      gap: 12px;\n",
              "    }\n",
              "\n",
              "    .colab-df-convert {\n",
              "      background-color: #E8F0FE;\n",
              "      border: none;\n",
              "      border-radius: 50%;\n",
              "      cursor: pointer;\n",
              "      display: none;\n",
              "      fill: #1967D2;\n",
              "      height: 32px;\n",
              "      padding: 0 0 0 0;\n",
              "      width: 32px;\n",
              "    }\n",
              "\n",
              "    .colab-df-convert:hover {\n",
              "      background-color: #E2EBFA;\n",
              "      box-shadow: 0px 1px 2px rgba(60, 64, 67, 0.3), 0px 1px 3px 1px rgba(60, 64, 67, 0.15);\n",
              "      fill: #174EA6;\n",
              "    }\n",
              "\n",
              "    .colab-df-buttons div {\n",
              "      margin-bottom: 4px;\n",
              "    }\n",
              "\n",
              "    [theme=dark] .colab-df-convert {\n",
              "      background-color: #3B4455;\n",
              "      fill: #D2E3FC;\n",
              "    }\n",
              "\n",
              "    [theme=dark] .colab-df-convert:hover {\n",
              "      background-color: #434B5C;\n",
              "      box-shadow: 0px 1px 3px 1px rgba(0, 0, 0, 0.15);\n",
              "      filter: drop-shadow(0px 1px 2px rgba(0, 0, 0, 0.3));\n",
              "      fill: #FFFFFF;\n",
              "    }\n",
              "  </style>\n",
              "\n",
              "    <script>\n",
              "      const buttonEl =\n",
              "        document.querySelector('#df-6ac3e50d-b084-45a5-b55d-82227adc32ea button.colab-df-convert');\n",
              "      buttonEl.style.display =\n",
              "        google.colab.kernel.accessAllowed ? 'block' : 'none';\n",
              "\n",
              "      async function convertToInteractive(key) {\n",
              "        const element = document.querySelector('#df-6ac3e50d-b084-45a5-b55d-82227adc32ea');\n",
              "        const dataTable =\n",
              "          await google.colab.kernel.invokeFunction('convertToInteractive',\n",
              "                                                    [key], {});\n",
              "        if (!dataTable) return;\n",
              "\n",
              "        const docLinkHtml = 'Like what you see? Visit the ' +\n",
              "          '<a target=\"_blank\" href=https://colab.research.google.com/notebooks/data_table.ipynb>data table notebook</a>'\n",
              "          + ' to learn more about interactive tables.';\n",
              "        element.innerHTML = '';\n",
              "        dataTable['output_type'] = 'display_data';\n",
              "        await google.colab.output.renderOutput(dataTable, element);\n",
              "        const docLink = document.createElement('div');\n",
              "        docLink.innerHTML = docLinkHtml;\n",
              "        element.appendChild(docLink);\n",
              "      }\n",
              "    </script>\n",
              "  </div>\n",
              "\n",
              "\n",
              "<div id=\"df-3ccb5b54-5fbc-47ca-9632-ec12a07ac10a\">\n",
              "  <button class=\"colab-df-quickchart\" onclick=\"quickchart('df-3ccb5b54-5fbc-47ca-9632-ec12a07ac10a')\"\n",
              "            title=\"Suggest charts.\"\n",
              "            style=\"display:none;\">\n",
              "\n",
              "<svg xmlns=\"http://www.w3.org/2000/svg\" height=\"24px\"viewBox=\"0 0 24 24\"\n",
              "     width=\"24px\">\n",
              "    <g>\n",
              "        <path d=\"M19 3H5c-1.1 0-2 .9-2 2v14c0 1.1.9 2 2 2h14c1.1 0 2-.9 2-2V5c0-1.1-.9-2-2-2zM9 17H7v-7h2v7zm4 0h-2V7h2v10zm4 0h-2v-4h2v4z\"/>\n",
              "    </g>\n",
              "</svg>\n",
              "  </button>\n",
              "\n",
              "<style>\n",
              "  .colab-df-quickchart {\n",
              "      --bg-color: #E8F0FE;\n",
              "      --fill-color: #1967D2;\n",
              "      --hover-bg-color: #E2EBFA;\n",
              "      --hover-fill-color: #174EA6;\n",
              "      --disabled-fill-color: #AAA;\n",
              "      --disabled-bg-color: #DDD;\n",
              "  }\n",
              "\n",
              "  [theme=dark] .colab-df-quickchart {\n",
              "      --bg-color: #3B4455;\n",
              "      --fill-color: #D2E3FC;\n",
              "      --hover-bg-color: #434B5C;\n",
              "      --hover-fill-color: #FFFFFF;\n",
              "      --disabled-bg-color: #3B4455;\n",
              "      --disabled-fill-color: #666;\n",
              "  }\n",
              "\n",
              "  .colab-df-quickchart {\n",
              "    background-color: var(--bg-color);\n",
              "    border: none;\n",
              "    border-radius: 50%;\n",
              "    cursor: pointer;\n",
              "    display: none;\n",
              "    fill: var(--fill-color);\n",
              "    height: 32px;\n",
              "    padding: 0;\n",
              "    width: 32px;\n",
              "  }\n",
              "\n",
              "  .colab-df-quickchart:hover {\n",
              "    background-color: var(--hover-bg-color);\n",
              "    box-shadow: 0 1px 2px rgba(60, 64, 67, 0.3), 0 1px 3px 1px rgba(60, 64, 67, 0.15);\n",
              "    fill: var(--button-hover-fill-color);\n",
              "  }\n",
              "\n",
              "  .colab-df-quickchart-complete:disabled,\n",
              "  .colab-df-quickchart-complete:disabled:hover {\n",
              "    background-color: var(--disabled-bg-color);\n",
              "    fill: var(--disabled-fill-color);\n",
              "    box-shadow: none;\n",
              "  }\n",
              "\n",
              "  .colab-df-spinner {\n",
              "    border: 2px solid var(--fill-color);\n",
              "    border-color: transparent;\n",
              "    border-bottom-color: var(--fill-color);\n",
              "    animation:\n",
              "      spin 1s steps(1) infinite;\n",
              "  }\n",
              "\n",
              "  @keyframes spin {\n",
              "    0% {\n",
              "      border-color: transparent;\n",
              "      border-bottom-color: var(--fill-color);\n",
              "      border-left-color: var(--fill-color);\n",
              "    }\n",
              "    20% {\n",
              "      border-color: transparent;\n",
              "      border-left-color: var(--fill-color);\n",
              "      border-top-color: var(--fill-color);\n",
              "    }\n",
              "    30% {\n",
              "      border-color: transparent;\n",
              "      border-left-color: var(--fill-color);\n",
              "      border-top-color: var(--fill-color);\n",
              "      border-right-color: var(--fill-color);\n",
              "    }\n",
              "    40% {\n",
              "      border-color: transparent;\n",
              "      border-right-color: var(--fill-color);\n",
              "      border-top-color: var(--fill-color);\n",
              "    }\n",
              "    60% {\n",
              "      border-color: transparent;\n",
              "      border-right-color: var(--fill-color);\n",
              "    }\n",
              "    80% {\n",
              "      border-color: transparent;\n",
              "      border-right-color: var(--fill-color);\n",
              "      border-bottom-color: var(--fill-color);\n",
              "    }\n",
              "    90% {\n",
              "      border-color: transparent;\n",
              "      border-bottom-color: var(--fill-color);\n",
              "    }\n",
              "  }\n",
              "</style>\n",
              "\n",
              "  <script>\n",
              "    async function quickchart(key) {\n",
              "      const quickchartButtonEl =\n",
              "        document.querySelector('#' + key + ' button');\n",
              "      quickchartButtonEl.disabled = true;  // To prevent multiple clicks.\n",
              "      quickchartButtonEl.classList.add('colab-df-spinner');\n",
              "      try {\n",
              "        const charts = await google.colab.kernel.invokeFunction(\n",
              "            'suggestCharts', [key], {});\n",
              "      } catch (error) {\n",
              "        console.error('Error during call to suggestCharts:', error);\n",
              "      }\n",
              "      quickchartButtonEl.classList.remove('colab-df-spinner');\n",
              "      quickchartButtonEl.classList.add('colab-df-quickchart-complete');\n",
              "    }\n",
              "    (() => {\n",
              "      let quickchartButtonEl =\n",
              "        document.querySelector('#df-3ccb5b54-5fbc-47ca-9632-ec12a07ac10a button');\n",
              "      quickchartButtonEl.style.display =\n",
              "        google.colab.kernel.accessAllowed ? 'block' : 'none';\n",
              "    })();\n",
              "  </script>\n",
              "</div>\n",
              "    </div>\n",
              "  </div>\n"
            ]
          },
          "metadata": {},
          "execution_count": 76
        }
      ]
    },
    {
      "cell_type": "code",
      "source": [
        "to_plot = dev_data_sj[['label','text_length']]"
      ],
      "metadata": {
        "id": "H3QwJistCTgO"
      },
      "execution_count": null,
      "outputs": []
    },
    {
      "cell_type": "code",
      "source": [
        "import seaborn as sns"
      ],
      "metadata": {
        "id": "UZLYM29tiToA"
      },
      "execution_count": null,
      "outputs": []
    },
    {
      "cell_type": "code",
      "source": [
        "sns.kdeplot(data=to_plot, x=\"text_length\", hue=\"label\")"
      ],
      "metadata": {
        "colab": {
          "base_uri": "https://localhost:8080/",
          "height": 467
        },
        "id": "BhMbQwk1i-C0",
        "outputId": "334be12f-b085-4f30-b6c5-32365cb999ea"
      },
      "execution_count": null,
      "outputs": [
        {
          "output_type": "execute_result",
          "data": {
            "text/plain": [
              "<Axes: xlabel='text_length', ylabel='Density'>"
            ]
          },
          "metadata": {},
          "execution_count": 79
        },
        {
          "output_type": "display_data",
          "data": {
            "text/plain": [
              "<Figure size 640x480 with 1 Axes>"
            ],
            "image/png": "[encoded data removed]"
          },
          "metadata": {}
        }
      ]
    },
    {
      "cell_type": "code",
      "source": [
        "sns.kdeplot(data=tips, x=\"total_bill\", hue=\"time\")"
      ],
      "metadata": {
        "id": "Otav5rFQjv7i"
      },
      "execution_count": null,
      "outputs": []
    },
    {
      "source": [
        "import numpy as np\n",
        "from google.colab import autoviz\n",
        "\n",
        "def scatter_plots(df, colname_pairs, figscale=1, alpha=.8):\n",
        "  from matplotlib import pyplot as plt\n",
        "  plt.figure(figsize=(len(colname_pairs) * 6 * figscale, 6 * figscale))\n",
        "  for plot_i, (x_colname, y_colname) in enumerate(colname_pairs, start=1):\n",
        "    ax = plt.subplot(1, len(colname_pairs), plot_i)\n",
        "    df.plot(kind='scatter', x=x_colname, y=y_colname, s=(32 * figscale), alpha=alpha, ax=ax)\n",
        "    ax.spines[['top', 'right',]].set_visible(False)\n",
        "  plt.tight_layout()\n",
        "  return autoviz.MplChart.from_current_mpl_state()\n",
        "\n",
        "chart = scatter_plots(_df_4, *[[['label', 'text_length']]], **{})\n",
        "chart"
      ],
      "cell_type": "code",
      "metadata": {
        "colab": {
          "base_uri": "https://localhost:8080/",
          "height": 611
        },
        "id": "xOnLOe9vCxXH",
        "outputId": "94627b3e-4e7c-46e9-9380-51643d934c8d"
      },
      "execution_count": null,
      "outputs": [
        {
          "output_type": "execute_result",
          "data": {
            "text/html": [
              "<img src=\"data:image/png;base64,iVBORw0KGgoAAAANSUhEUgAAAk4AAAJOCAYAAABBWYj1AAAAOXRFWHRTb2Z0d2FyZQBNYXRwbG90\n",
              "bGliIHZlcnNpb24zLjcuMSwgaHR0cHM6Ly9tYXRwbG90bGliLm9yZy/bCgiHAAAACXBIWXMAAA9h\n",
              "AAAPYQGoP6dpAABHwklEQVR4nO3deXhU9d3//9csmUlIMglbElICoqjsIngLU7cbpUaMtv5ExaoU\n",
              "BbTFqAVaRaqi1Spc1C7uVK0NvRG3+1aqrFI2v0IAS4myC7IEC0kQSCYJyUxm5vz+wIwMoB7CZM4E\n",
              "no/rOpfmnHfOvOdgy+v6nM/5HJthGIYAAADwvexWNwAAANBSEJwAAABMIjgBAACYRHACAAAwieAE\n",
              "AABgEsEJAADAJIITAACASQQnAAAAkwhOJhmGIZ/PJ9YLBQDg9EVwMqm6uloZGRmqrq62uhUAAGAR\n",
              "ghMAAIBJBCcAAACTCE4AAAAmEZwAAABMIjgBAACYRHACAAAwieAEAABgEsEJAADAJIITAACASQQn\n",
              "AAAAkwhOAAAAJhGcAAAATCI4AQAAmERwAgAAMIngBAAAYBLBCQAAwCSCEwAAgEkEJwAAAJMITgmg\n",
              "viGkr2r8qm8IWd0KAAD4Dk6rGzid7av2a8bKnZq/vlx1DSGlJDk0pFeObvN2Vrs0t9XtAQCAo9gM\n",
              "wzCsbqIl8Pl8ysjIUFVVlTwez0mfb1+1X/e+sVbbKqqV7HTI5bQrEAyrPhhS16x0PX/L+YQnAAAS\n",
              "DLfqLDJj5U5tq6hW+zS3Mlolye20K6NVktqnubWtolozindZ3SIAADgKwckC9Q0hzV9friS7XV/V\n",
              "+LWtokZf7KvVtooa7a8NyGm3a96GMuY8AQCQYCwNTmeccYZsNtsxW2FhoSSpvr5ehYWFatu2rdLS\n",
              "0jR06FCVl5dHnaO0tFQFBQVq1aqVsrKydP/99ysYDEbVLF26VP369ZPb7VbXrl1VVFQUr694XDX+\n",
              "oGr8QR08FNCBQw0Kf323NGwY2l8bUOWhgGrqD9cAAIDEYWlw+uSTT7R3797ItnDhQknSjTfeKEka\n",
              "N26cPvjgA73zzjtatmyZ9uzZo+uvvz7y+6FQSAUFBQoEAlqxYoWmT5+uoqIiTZo0KVKzY8cOFRQU\n",
              "aNCgQSopKdHYsWM1evRoLViwIL5f9ghpbqfqAkEFQmEl2W1y2u1yfP3PJLtNgVBY9Q0hpbmZuw8A\n",
              "QCJJqMnhY8eO1ezZs7V161b5fD61b99eM2fO1A033CBJ2rx5s7p3767i4mINHDhQ8+bN0zXXXKM9\n",
              "e/YoOztbkjRt2jRNmDBB+/btk8vl0oQJEzRnzhytX78+8jk333yzKisrNX/+fNO9xXJyeH1DSBdN\n",
              "WayDhwJyOeyy2WyRY4ZhKBAKq3Url5Y/eLmSkxwn9VkAACB2EmaOUyAQ0IwZMzRy5EjZbDatWbNG\n",
              "DQ0NGjx4cKSmW7du6tSpk4qLiyVJxcXF6t27dyQ0SVJ+fr58Pp82bNgQqTnyHI01jef4Nn6/Xz6f\n",
              "L2qLlRp/UMlJDrkcdgXDhoLhsELG4X8Gw4ZcDruSkxzcqgMAIMEkTHCaNWuWKisrdfvtt0uSysrK\n",
              "5HK5lJmZGVWXnZ2tsrKySM2RoanxeOOx76rx+Xyqq6v71n4mT56sjIyMyJaXl3cyXy9KmtupNLdT\n",
              "rVNdapPqkt1mkwzJbrOpTapLrVNdSkt2cqsOAIAEkzDB6a9//auGDBmi3Nxcq1uRJE2cOFFVVVWR\n",
              "bffu3TE7d3KSQ1f1ylZDKKy2qS51zUrTWVmp6pqVprapLjWEwhrSM4fbdAAAJJiEGNLYtWuX/vnP\n",
              "f+rdd9+N7MvJyVEgEFBlZWXUqFN5eblycnIiNatXr446V+NTd0fWHP0kXnl5uTwej1JSUr61J7fb\n",
              "Lbe7+RagHO49Q6t2HNS2imq5nQ65nXb5g2H5gyGdnZWu27ydm+2zAQBA0yTEiNPf/vY3ZWVlqaCg\n",
              "ILKvf//+SkpK0qJFiyL7tmzZotLSUnm9XkmS1+vVunXrVFFREalZuHChPB6PevToEak58hyNNY3n\n",
              "sEq7NLeev+V83Tags9KSnQqGDaUlO3XbgM56jlXDAQBISJY/VRcOh9WlSxf99Kc/1ZQpU6KOjRkz\n",
              "RnPnzlVRUZE8Ho/uvfdeSdKKFSskHV6OoG/fvsrNzdXUqVNVVlam4cOHa/To0XrqqackHV6OoFev\n",
              "XiosLNTIkSO1ePFi3XfffZozZ47y8/NN9xnrV64cqb4hpBp/UGluJ7fnAABIYJbfqvvnP/+p0tJS\n",
              "jRw58phjf/rTn2S32zV06FD5/X7l5+frxRdfjBx3OByaPXu2xowZI6/Xq9TUVI0YMUKPP/54pKZL\n",
              "ly6aM2eOxo0bp2eeeUYdO3bUq6++ekKhqbklJzkITAAAtACWjzi1FM054gQAAFqGhJjjBAAA0BIQ\n",
              "nAAAAEwiOAEAAJhEcEoA9Q0hfVXjV31DyOpWAADAd7D8qbrT2b5qv2as3Kn568tV1xBSSpJDQ3rl\n",
              "6DZvZ9ZxAgAgAfFUnUmxfqpuX7Vf976xVtsqqpXsdMjltCsQDKs+GFLXrHQ9zyKYAAAkHG7VWWTG\n",
              "yp3aVlGt9mlutU51KfXrl/62T3NrW0W1ZhTvsrpFAABwFIKTBeobQpq/vlzJToecjug/AqfDLrfT\n",
              "oXkbypjzBABAgiE4WaDGH1RdQ0gu5/Evv9tpV13g8GtYAABA4iA4WSDN7VRKkkOBYPi4x/3BsFJc\n",
              "DqW5mbsPAEAiIThZIDnJoat6Zas+GFIwFB2egqGw/MGQhvTM4f11AAAkGIY0LDLce4ZW7TiobRXV\n",
              "cjsdcjvt8gcPh6azs9J1m7ez1S0CAICjsByBSc3xkt+vavyaUbxL8zaUqS4QUorLoSE9WccJAIBE\n",
              "RXAyqTmCU6P6hsMTwdPcTm7PAQCQwLhVlwCSkxwEJgAAWgAmhwMAAJhEcAIAADCJ4AQAAGASwQkA\n",
              "AMAkghMAAIBJBCcAAACTCE4AAAAmEZwAAABMIjgBAACYRHACAAAwieAEAABgEsEJAADAJIITAACA\n",
              "SQQnAAAAkwhOAAAAJhGcAAAATCI4AQAAmERwAgAAMIngBAAAYBLBCQAAwCSCEwAAgEkEJwAAAJMI\n",
              "TgAAACYRnAAAAEwiOAEAAJhEcAIAADCJ4AQAAGASwQkAAMAkghMAAIBJBCcAAACTCE4AAAAmEZwA\n",
              "AABMIjgBAACYRHACAAAwieAEAABgEsEJAADAJIITAACASQQnAAAAkwhOAAAAJhGcAAAATCI4AQAA\n",
              "mERwAgAAMMny4PSf//xHt912m9q2bauUlBT17t1b//rXvyLHDcPQpEmT1KFDB6WkpGjw4MHaunVr\n",
              "1DkOHDigW2+9VR6PR5mZmRo1apRqamqiaj777DNdcsklSk5OVl5enqZOnRqX7wcAAE4dlgangwcP\n",
              "6qKLLlJSUpLmzZunjRs36g9/+INat24dqZk6daqeffZZTZs2TatWrVJqaqry8/NVX18fqbn11lu1\n",
              "YcMGLVy4ULNnz9ZHH32ku+66K3Lc5/PpyiuvVOfOnbVmzRr9/ve/12OPPaaXX345rt8XAAC0bDbD\n",
              "MAyrPvzBBx/U8uXL9f/+3/877nHDMJSbm6tf/epX+vWvfy1JqqqqUnZ2toqKinTzzTdr06ZN6tGj\n",
              "hz755BNdcMEFkqT58+fr6quv1pdffqnc3Fy99NJLeuihh1RWViaXyxX57FmzZmnz5s2mevX5fMrI\n",
              "yFBVVZU8Hk8Mvj0AAGhpLB1xev/993XBBRfoxhtvVFZWls4//3y98sorkeM7duxQWVmZBg8eHNmX\n",
              "kZGhAQMGqLi4WJJUXFyszMzMSGiSpMGDB8tut2vVqlWRmksvvTQSmiQpPz9fW7Zs0cGDB4/bm9/v\n",
              "l8/ni9oAAMDpzdLgtH37dr300ks6++yztWDBAo0ZM0b33Xefpk+fLkkqKyuTJGVnZ0f9XnZ2duRY\n",
              "WVmZsrKyoo47nU61adMmquZ45zjyM442efJkZWRkRLa8vLyT/LYAAKClszQ4hcNh9evXT0899ZTO\n",
              "P/983XXXXbrzzjs1bdo0K9uSJE2cOFFVVVWRbffu3Va3BAAALGZpcOrQoYN69OgRta979+4qLS2V\n",
              "JOXk5EiSysvLo2rKy8sjx3JyclRRURF1PBgM6sCBA1E1xzvHkZ9xNLfbLY/HE7UBAIDTm6XB6aKL\n",
              "LtKWLVui9n3++efq3LmzJKlLly7KycnRokWLIsd9Pp9WrVolr9crSfJ6vaqsrNSaNWsiNYsXL1Y4\n",
              "HNaAAQMiNR999JEaGhoiNQsXLtS5554b9QQfAADAd7E0OI0bN04rV67UU089pW3btmnmzJl6+eWX\n",
              "VVhYKEmy2WwaO3asfve73+n999/XunXr9LOf/Uy5ubm67rrrJB0eobrqqqt05513avXq1Vq+fLnu\n",
              "uece3XzzzcrNzZUk3XLLLXK5XBo1apQ2bNigt956S88884zGjx9v1VcHAAAtkWGxDz74wOjVq5fh\n",
              "druNbt26GS+//HLU8XA4bDzyyCNGdna24Xa7jSuuuMLYsmVLVM3+/fuNn/70p0ZaWprh8XiMO+64\n",
              "w6iuro6q+fTTT42LL77YcLvdxg9+8ANjypQpJ9RnVVWVIcmoqqpq2hcFAAAtnqXrOLUkrOMEAAAs\n",
              "f+UKAABAS0FwAgAAMIngBAAAYBLBCQAAwCSCEwAAgEkEJwAAAJMITgAAACYRnAAAAEwiOAEAAJhE\n",
              "cAIAADCJ4AQAAGASwQkAAMAkghMAAIBJBCcAAACTCE4AAAAmEZwAAABMIjgBAACYRHACAAAwieAE\n",
              "AABgEsEJAADAJIITAACASQQnAAAAkwhOAAAAJhGcAAAATCI4AQAAmERwAgAAMIngBAAAYBLBCQAA\n",
              "wCSCEwAAgEkEJwAAAJMITgAAACYRnAAAAEwiOAEAAJhEcAIAADCJ4AQAAGASwQkAAMAkghMAAIBJ\n",
              "BCcAAACTCE4AAAAmEZwAAABMIjgBAACYRHACAAAwieAEAABgEsEJAADAJIITAACASQQnAAAAkwhO\n",
              "AAAAJhGcAAAATCI4AQAAmERwAgAAMIngBAAAYBLBCQAAwCSCEwAAgEkEJwAAAJMITgAAACYRnAAA\n",
              "AEyyNDg99thjstlsUVu3bt0ix+vr61VYWKi2bdsqLS1NQ4cOVXl5edQ5SktLVVBQoFatWikrK0v3\n",
              "33+/gsFgVM3SpUvVr18/ud1ude3aVUVFRfH4egAA4BRj+YhTz549tXfv3sj28ccfR46NGzdOH3zw\n",
              "gd555x0tW7ZMe/bs0fXXXx85HgqFVFBQoEAgoBUrVmj69OkqKirSpEmTIjU7duxQQUGBBg0apJKS\n",
              "Eo0dO1ajR4/WggUL4vo9AQBAy2czDMOw6sMfe+wxzZo1SyUlJcccq6qqUvv27TVz5kzdcMMNkqTN\n",
              "mzere/fuKi4u1sCBAzVv3jxdc8012rNnj7KzsyVJ06ZN04QJE7Rv3z65XC5NmDBBc+bM0fr16yPn\n",
              "vvnmm1VZWan58+eb7tXn8ykjI0NVVVXyeDwn98UBAECLZPmI09atW5Wbm6szzzxTt956q0pLSyVJ\n",
              "a9asUUNDgwYPHhyp7datmzp16qTi4mJJUnFxsXr37h0JTZKUn58vn8+nDRs2RGqOPEdjTeM5AAAA\n",
              "zHJa+eEDBgxQUVGRzj33XO3du1e//e1vdckll2j9+vUqKyuTy+VSZmZm1O9kZ2errKxMklRWVhYV\n",
              "mhqPNx77rhqfz6e6ujqlpKQctze/3y+/3x/52efzndR3BQAALZ+lwWnIkCGRf+/Tp48GDBigzp07\n",
              "6+233/7WQBMvkydP1m9/+1tLewAAAInF8lt1R8rMzNQ555yjbdu2KScnR4FAQJWVlVE15eXlysnJ\n",
              "kSTl5OQc85Rd48/fV+PxeL4znE2cOFFVVVWRbffu3Sf79QAAQAuXUMGppqZGX3zxhTp06KD+/fsr\n",
              "KSlJixYtihzfsmWLSktL5fV6JUler1fr1q1TRUVFpGbhwoXyeDzq0aNHpObIczTWNJ7j27jdbnk8\n",
              "nqgNAACc3ix9qu7Xv/61rr32WnXu3Fl79uzRo48+qpKSEm3cuFHt27fXmDFjNHfuXBUVFcnj8eje\n",
              "e++VJK1YsULS4eUI+vbtq9zcXE2dOlVlZWUaPny4Ro8eraeeekrS4eUIevXqpcLCQo0cOVKLFy/W\n",
              "fffdpzlz5ig/P990rzxVBwAALJ3j9OWXX+qnP/2p9u/fr/bt2+viiy/WypUr1b59e0nSn/70J9nt\n",
              "dg0dOlR+v1/5+fl68cUXI7/vcDg0e/ZsjRkzRl6vV6mpqRoxYoQef/zxSE2XLl00Z84cjRs3Ts88\n",
              "84w6duyoV1999YRCEwAAgGTxiFNLwogTAABIqDlOAAAAiYzgBAAAYBLBCQAAwCSCEwAAgEkEJwAA\n",
              "AJMITgAAACYRnAAAAEwiOAEAAJhEcAIAADCJ4AQAAGASwQkAAMAkghMAAIBJBCcAAACTCE4AAAAm\n",
              "EZwAAABMIjgBAACYRHACAAAwieAEAABgEsEJAADAJIITAACASQQnAAAAkwhOAAAAJhGcEkB9Q0hf\n",
              "1fhV3xCyuhUAAPAdnFY3cDrbV+3XjJU7NX99ueoaQkpJcmhIrxzd5u2sdmluq9sDAABHsRmGYVjd\n",
              "REvg8/mUkZGhqqoqeTyekz7fvmq/7n1jrbZVVCvZ6ZDLaVcgGFZ9MKSuWel6/pbzCU8AACQYbtVZ\n",
              "ZMbKndpWUa32aW61TnUp1e1U61SX2qe5ta2iWjOKd1ndIgAAOArByQL1DSHNX1+uZKdDTkf0H4HT\n",
              "YZfb6dC8DWXMeQIAIMEQnCxQ4w+qriEkl/P4l9/ttKsuEFKNPxjnzgAAwHchOFkgze1USpJDgWD4\n",
              "uMf9wbBSXA6luZm7DwBAIiE4WSA5yaGremWrPhhSMBRW2DAUDH/9z1BY/mBIQ3rmKDnJYXWrAADg\n",
              "CAxpWGS49wx9vG2/Nu31RY08uZx2de/g0W3ezhZ2BwAAjocRJ4s0LgJx9GoQrA4BAEDiYsTJIjNW\n",
              "7tSu/bU6o22q7HabwmEj8s9d+2s1o3iXxv7oHKvbBAAAR2DEyQJHL0dgt9mi/slyBAAAJCaCkwVY\n",
              "jgAAgJaJ4GQBliMAAKBlIjhZ4OjlCI7EcgQAACQuhjQsMtx7hlbtOKhtFdVyOx1yO+3yBw+HprOz\n",
              "0lmOAACABGQzeP7dFJ/Pp4yMDFVVVcnj8cTknF/V+DWjeJfmbShTXSCkFJdDQ3rm6DZvZ7VLc8fk\n",
              "MwAAQOwQnExqjuDUqL7h8ETwNLeT23MAACQwbtUlgOQkB4EJAIAWgMnhAAAAJhGcAAAATCI4AQAA\n",
              "mERwAgAAMIngBAAAYBLBCQAAwCSCEwAAgEkEJwAAAJMITgAAACYRnAAAAEwiOAEAAJhEcAIAADCJ\n",
              "4AQAAGASwQkAAMAkghMAAIBJBCcAAACTmhycFi1apN/85jcaPXq0Ro4cGbU11ZQpU2Sz2TR27NjI\n",
              "vvr6ehUWFqpt27ZKS0vT0KFDVV5eHvV7paWlKigoUKtWrZSVlaX7779fwWAwqmbp0qXq16+f3G63\n",
              "unbtqqKioib3CQAATk9NCk6//e1vdeWVV2rRokX66quvdPDgwaitKT755BP95S9/UZ8+faL2jxs3\n",
              "Th988IHeeecdLVu2THv27NH1118fOR4KhVRQUKBAIKAVK1Zo+vTpKioq0qRJkyI1O3bsUEFBgQYN\n",
              "GqSSkhKNHTtWo0eP1oIFC5rUKwAAOE0ZTZCTk2P8/e9/b8qvHld1dbVx9tlnGwsXLjQuu+wy45e/\n",
              "/KVhGIZRWVlpJCUlGe+8806kdtOmTYYko7i42DAMw5g7d65ht9uNsrKySM1LL71keDwew+/3G4Zh\n",
              "GA888IDRs2fPqM8cNmyYkZ+fb7rHqqoqQ5JRVVXV1K8JAABauCaNOAUCAf3whz+MWXgrLCxUQUGB\n",
              "Bg8eHLV/zZo1amhoiNrfrVs3derUScXFxZKk4uJi9e7dW9nZ2ZGa/Px8+Xw+bdiwIVJz9Lnz8/Mj\n",
              "5wAAADCjScFp9OjRmjlzZkwaePPNN/Xvf/9bkydPPuZYWVmZXC6XMjMzo/ZnZ2errKwsUnNkaGo8\n",
              "3njsu2p8Pp/q6uqO25ff75fP54vaAADA6c1ptnD8+PGRfw+Hw3r55Zf1z3/+U3369FFSUlJU7R//\n",
              "+EdT59y9e7d++ctfauHChUpOTjbbSlxMnjxZv/3tb61uAwAAJBDTwWnt2rVRP/ft21eStH79+iZ/\n",
              "+Jo1a1RRUaF+/fpF9oVCIX300Ud6/vnntWDBAgUCAVVWVkaNOpWXlysnJ0eSlJOTo9WrV0edt/Gp\n",
              "uyNrjn4Sr7y8XB6PRykpKcftbeLEiVFh0efzKS8vr8nfFQAAtHymg9OSJUti/uFXXHGF1q1bF7Xv\n",
              "jjvuULdu3TRhwgTl5eUpKSlJixYt0tChQyVJW7ZsUWlpqbxeryTJ6/XqySefVEVFhbKysiRJCxcu\n",
              "lMfjUY8ePSI1c+fOjfqchQsXRs5xPG63W263O2bfFQAAtHxNmuM0cuRIVVdXH7O/trb2hNZxSk9P\n",
              "V69evaK21NRUtW3bVr169VJGRoZGjRql8ePHa8mSJVqzZo3uuOMOeb1eDRw4UJJ05ZVXqkePHho+\n",
              "fLg+/fRTLViwQA8//LAKCwsjwecXv/iFtm/frgceeECbN2/Wiy++qLffflvjxo1rytcHAACnqSYF\n",
              "p+nTpx93UnVdXZ3+/ve/n3RTR/rTn/6ka665RkOHDtWll16qnJwcvfvuu5HjDodDs2fPlsPhkNfr\n",
              "1W233aaf/exnevzxxyM1Xbp00Zw5c7Rw4UKdd955+sMf/qBXX31V+fn5Me0VAACc2myGYRhmi30+\n",
              "nwzDUOvWrbV161a1b98+ciwUCumDDz7Qgw8+qD179jRLs1by+XzKyMhQVVWVPB6P1e0AAAALmJ7j\n",
              "JEmZmZmy2Wyy2Ww655xzjjlus9l4Eg0AAJyyTig4LVmyRIZh6PLLL9f//d//qU2bNpFjLpdLnTt3\n",
              "Vm5ubsybBAAASAQndKuu0a5du9SpUyfZbLbm6CkhcasOAACc0IhTo6qqqmOWEZAO36pLTk5Wp06d\n",
              "eJQfAACccpoUnPr27fudo01JSUkaNmyY/vKXvyTciuAAAABN1aTlCN577z2dffbZevnll1VSUqKS\n",
              "khK9/PLLOvfcczVz5kz99a9/1eLFi/Xwww/Hul8AAADLNGmO04UXXqgnnnjimHWQFixYoEceeUSr\n",
              "V6/WrFmz9Ktf/UpffPFFzJq1EnOcAABAk0ac1q1bp86dOx+zv3PnzpG5T3379tXevXtPrjsAAIAE\n",
              "0qTg1K1bN02ZMkWBQCCyr6GhQVOmTFG3bt0kSf/5z3+UnZ0dmy4BAAASQJMmh7/wwgv68Y9/rI4d\n",
              "O6pPnz6SDo9ChUIhzZ49W5K0fft23X333bHrFAAAwGJNmuMkSdXV1Xr99df1+eefS5LOPfdc3XLL\n",
              "LUpPT49pg4mCOU4AAKDJwel0Q3ACAABNulUnSVu3btWSJUtUUVGhcDgcdWzSpEkn3RgAAECiadKI\n",
              "0yuvvKIxY8aoXbt2ysnJiVoM02az6d///ndMm0wEjDgBAIAmBafOnTvr7rvv1oQJE5qjp4REcAIA\n",
              "AE1ajuDgwYO68cYbY90LAABAQmtScLrxxhv14YcfxroXAACAhNakyeFdu3bVI488opUrV6p3795K\n",
              "SkqKOn7ffffFpDkAAIBE0qQ5Tl26dPn2E9ps2r59+0k1lYiY4wQAAJo04rRjx45Y9wEAAJDwmjTH\n",
              "qVEgENCWLVsUDAZj1Q8AAEDCalJwOnTokEaNGqVWrVqpZ8+eKi0tlSTde++9mjJlSkwbBAAASBRN\n",
              "Ck4TJ07Up59+qqVLlyo5OTmyf/DgwXrrrbdi1hwAAEAiadIcp1mzZumtt97SwIEDo1YN79mzp774\n",
              "4ouYNQcAAJBImjTitG/fPmVlZR2zv7a2NipIAQAAnEqaFJwuuOACzZkzJ/JzY1h69dVX5fV6Y9MZ\n",
              "AABAgmnSrbqnnnpKQ4YM0caNGxUMBvXMM89o48aNWrFihZYtWxbrHgEAABJCk0acLr74YpWUlCgY\n",
              "DKp379768MMPlZWVpeLiYvXv3z/WPQIAACSEJq0cfjpi5XAAAGD6Vp3P5zN9UoIFAAA4FZkOTpmZ\n",
              "md/7xJxhGLLZbAqFQifdGAAAQKIxHZyWLFnSnH0AAAAkvGad43T33Xfr8ccfV7t27ZrrI+KGOU4A\n",
              "AOCkXvL7fWbMmHFCc6MAAAASWbMGJx7YAwAAp5JmDU4AAACnEoITAACASQQnAAAAkwhOAAAAJjUp\n",
              "OJWWlh534rdhGCotLY38fNttt/HoPgAAOGU0aR0nh8OhvXv3KisrK2r//v37lZWVdUquHM46TgAA\n",
              "oEkjTo2vVjlaTU2NkpOTT7opAACARGT6lSuSNH78eEmSzWbTI488olatWkWOhUIhrVq1Sn379o1p\n",
              "gwAAAInihILT2rVrJR0ecVq3bp1cLlfkmMvl0nnnnadf//rXse0QAAAgQTRpjtMdd9yhZ5555rSa\n",
              "68McJwAA0KQ5TlOnTv3W8LBu3bqTaggAACBRNSk49e7dW3PmzDlm/9NPP60LL7zwpJsCAABIRE0K\n",
              "TuPHj9fQoUM1ZswY1dXV6T//+Y+uuOIKTZ06VTNnzox1jwAAAAmhSXOcpMMTxYcPHy6/368DBw5o\n",
              "wIABeu2115STkxPrHhMCc5wAAECTX7nStWtX9erVSzt37pTP59OwYcNO2dAEAAAgNTE4LV++XH36\n",
              "9NHWrVv12Wef6aWXXtK9996rYcOG6eDBg7HuEQAAICE0KThdfvnlGjZsmFauXKnu3btr9OjRWrt2\n",
              "rUpLS9W7d+9Y9wgAAJAQTmgBzEYffvihLrvssqh9Z511lpYvX64nn3wyJo0BAAAkmiZPDpekbdu2\n",
              "6YsvvtCll16qlJSUb32H3amgOSeH1zeEVOMPKs3tVHKSI6bnBgAAsdOkEaf9+/frpptu0pIlS2Sz\n",
              "2bR161adeeaZGjVqlNq0aaOnn3461n2ekvZV+zVj5U7NX1+uuoaQUpIcGtIrR7d5O6tdmtvq9gAA\n",
              "wFGaNMdp3LhxSkpKUmlpadSLfocNG6Z58+bFrLlT2b5qv+59Y61eX1WqWn9QTrtNtf6gZqzapXtm\n",
              "rtVXNX6rWwQAAEdp8hynBQsWqGPHjlH7zz77bO3atSsmjZ3qZqzcqW0V1Wqf5pbTcTi/prqlYCis\n",
              "bRXVmlG8S2N/dI7FXQIAgCM1acSptrY2aqSp0YEDB+R2m7/F9NJLL6lPnz7yeDzyeDzyer1RI1b1\n",
              "9fUqLCxU27ZtlZaWpqFDh6q8vDzqHKWlpSooKFCrVq2UlZWl+++/X8FgMKpm6dKl6tevn9xut7p2\n",
              "7aqioqIT+8IxVt8Q0vz15Up2OuR02BU2DAVDYYUNQ06HXW6nQ/M2lKm+IWRpnwAAIFqTgtMll1yi\n",
              "v//975GfbTabwuGwpk6dqkGDBpk+T8eOHTVlyhStWbNG//rXv3T55ZfrJz/5iTZs2CDp8C3BDz74\n",
              "QO+8846WLVumPXv26Prrr4/8figUUkFBgQKBgFasWKHp06erqKhIkyZNitTs2LFDBQUFGjRokEpK\n",
              "SjR27FiNHj1aCxYsaMpXj4kaf1B1DSHZ7TaVVdVpW0WNvthXq20VNSr31ctpt6kucHjCOAAASBxN\n",
              "eqpu/fr1uuKKK9SvXz8tXrxYP/7xj7VhwwYdOHBAy5cv11lnndXkhtq0aaPf//73uuGGG9S+fXvN\n",
              "nDlTN9xwgyRp8+bN6t69u4qLizVw4EDNmzdP11xzjfbs2aPs7GxJ0rRp0zRhwgTt27dPLpdLEyZM\n",
              "0Jw5c7R+/frIZ9x8882qrKzU/PnzTfcVy6fq6htCKnjm/2l3ZZ1CYUN2m2STTYYMhQ3JYbcpr3WK\n",
              "5tx3CU/ZAQCQQJo04uTxeLRp0yZdfPHF+slPfqLa2lpdf/31Wrt2rZKSkprUSCgU0ptvvqna2lp5\n",
              "vV6tWbNGDQ0NGjx4cKSmW7du6tSpk4qLiyVJxcXF6t27dyQ0SVJ+fr58Pl9k1Kq4uDjqHI01jeew\n",
              "QnKSQ23TXGoIhuW0SU67XQ67TU67XU6b1BAMq12am9AEAECCadLk8C5dumjv3r166KGHovbv379f\n",
              "HTt2VChkfm7OunXr5PV6VV9fr7S0NL333nvq0aOHSkpK5HK5lJmZGVWfnZ2tsrIySVJZWVlUaGo8\n",
              "3njsu2p8Pp/q6uqUkpJy3L78fr/8/m+ebPP5fKa/0/epbwjpQG1ASQ6bQoYUDodls9lkGIYMQ0py\n",
              "2LS/xq/6hhDhCQCABNKkEadvu7tXU1Oj5OTkEzrXueeeq5KSEq1atUpjxozRiBEjtHHjxqa0FVOT\n",
              "J09WRkZGZMvLy4vZuWv8QQVChjpkpqhNqkt2m00yJLvNpjapLnXITFYgZDDHCQCABHNCI07jx4+X\n",
              "dHgy+KRJk6KerAuFQlq1apX69u17Qg24XC517dpVktS/f3998skneuaZZzRs2DAFAgFVVlZGjTqV\n",
              "l5crJydHkpSTk6PVq1dHna/xqbsja45+Eq+8vFwej+dbR5skaeLEiZHvKx0ecYpVeEpzO5WS5FCt\n",
              "P6hsT7Lap7sVNgzZbTbZbTYdqA0oLdmhNHeTBgQBAEAzOaG/mdeuXSvp8IjTunXr5HK5IsdcLpfO\n",
              "O+88/frXvz6phsLhsPx+v/r376+kpCQtWrRIQ4cOlSRt2bJFpaWl8nq9kiSv16snn3xSFRUVysrK\n",
              "kiQtXLhQHo9HPXr0iNTMnTs36jMWLlwYOce3cbvdJ7S0wolITnLoql7Zen1VqYKhsJwO++FRJx1e\n",
              "x8kfDOnGnh25TQcAQII5oeC0ZMkSSdIdd9yhZ5555qSfLps4caKGDBmiTp06qbq6WjNnztTSpUu1\n",
              "YMECZWRkaNSoURo/frzatGkjj8eje++9V16vVwMHDpQkXXnllerRo4eGDx+uqVOnqqysTA8//LAK\n",
              "CwsjoecXv/iFnn/+eT3wwAMaOXKkFi9erLfffltz5sw5qd5P1nDvGVq146C2VVTL7XTI7bTLHzwc\n",
              "ms7OStdt3s6W9gcAAI51Ui/5PVmjRo3SokWLtHfvXmVkZKhPnz6aMGGCfvSjH0k6vADmr371K73x\n",
              "xhvy+/3Kz8/Xiy++GLkNJ0m7du3SmDFjtHTpUqWmpmrEiBGaMmWKnM5vMuHSpUs1btw4bdy4UR07\n",
              "dtQjjzyi22+//YR6bY6X/H5V49eM4l2at6FMdYGQUlwODenJu+oAAEhUlganlqQ5glOj+obDi12m\n",
              "uZ3cngMAIIEx+zgBJCc5CEwAALQATVqOAAAA4HREcAIAADCJ4AQAAGASwQkAAMAkghMAAIBJBCcA\n",
              "AACTCE4AAAAmEZwAAABMIjgBAACYRHACAAAwieAEAABgEsEJAADAJIITAACASQSnBFB1KKDPy6tV\n",
              "dShgdSsAAOA7OK1u4HS2ea9Pk/6xXiVfVikcNmS323R+XqaeuK6XzslOt7o9AABwFEacLLJ5r083\n",
              "/aVYn+w8qFAoLNmkUCis1TsO6IaXVujz8mqrWwQAAEchOFlk0j/Wq7o+KJfDJpfToSS7XS6nQy6H\n",
              "TdX1QT0ya73VLQIAgKMQnCxQdSigki+rZLdJdnv0H4HdbpfdJq3dXcmcJwAAEgzByQLl1X6Fw4Zs\n",
              "dpskyTCMyCZJNrtN4bCh8mq/lW0CAICjMDncAtnpbtntNgWDYQXCIYWNb445vg5NTqdd2elu65oE\n",
              "AADHYMTJAhmtXOrZIV1hSSFDMvTNFgwbCkvqletRRiuXpX0CAIBoBCeL9MzNkO1bjtkk9cz1xLMd\n",
              "AABgAsHJAvUNIX2y86Cy0t1KdTkiAcomKdXlUPt0t1bvPKj6hpCVbQIAgKMwx8kCNf6g6hpCSnU7\n",
              "leVJVigcVkPIUJLDJofdrlp/UHWBkGr8QSUnOaxuFwAAfI0RJwukuZ1KSXIoEAxLkhx2u5KTHHJ8\n",
              "vTSBPxhWisuhNDe5FgCAREJwskBykkNX9cpWfTCkYCgcdSwYCssfDGlIzxxGmwAASDAMaVhkuPcM\n",
              "rdpxUNsqquV2OuR22uUPHg5NZ2el6zZvZ6tbBAAAR7EZjasu4jv5fD5lZGSoqqpKHk9snnj7qsav\n",
              "GcW7NG9DmeoCIaW4HBrSM0e3eTurXRprOAEAkGgITiY1R3BqVN9weCJ4mtvJ7TkAABIYt+oSQHKS\n",
              "g8AEAEALwORwAAAAkwhOAAAAJhGcAAAATCI4AQAAmERwAgAAMIngBAAAYBLBCQAAwCSCEwAAgEkE\n",
              "pwRQ3xDSVzV+1TeErG4FAAB8B1YOt9C+ar9mrNyp+evLVdcQUkqSQ0N68a46AAASFe+qMynW76rb\n",
              "V+3XvW+s1baKaiU7HXI57QoEw6oPhtQ1K13P33I+4QkAgATDrTqLzFi5U9sqqtU+za3WqS6lup1q\n",
              "nepS+zS3tlVUa0bxLqtbBAAARyE4WaC+IaT568uV7HTI6Yj+I3A67HI7HZq3oYw5TwAAJBiCkwVq\n",
              "/EHVNYTkch7/8ruddtUFQqrxB+PcGQAA+C4EJwukuZ1KSXIoEAxLksKGoWA4rPDX0838wbBSXA6l\n",
              "uZm7DwBAIuFvZgskJzl0Va9s/c/KUtVX1qnaH5RhSDablO52Kizpxv4dlZzksLpVAABwBEacLHJ1\n",
              "71wFQ2Htrw0oGDo82nTkz1f36WB1iwAA4CgEJ4vMXbdHdpuUnGRX2JCCYUNh4/DPdps097O9VrcI\n",
              "AACOQnCyQH1DSLM/3atDDWEFQoYcdinJbpPDLgVChg41hPXBZ3t4qg4AgATDHCcL1PiD2lfjVygU\n",
              "VpLDLpvtm/xqGIYaQmHtq/arxh9knhMAAAmE4GSBJLtN9V8/UWez2XTk4u02m02SVB8MK8lus6Q/\n",
              "AABwfAQnCzSEDSU77aoJhhUIhhQ+4qU3dptkGFKK066GMG/DAQAgkTDHyQJpbqfapLpkSAoZkqFv\n",
              "tsafW6e6WMcJAIAEQ3CyQHKSQ61bJenbxpMMSW1SXcxvAgAgwRCcLFDfENLO/YciP9uO2Brt/KqW\n",
              "p+oAAEgwBCcL7K85/MScwy45j5oA7vx6WYJqf1D7a/wWdQgAAI7H0uA0efJk/dd//ZfS09OVlZWl\n",
              "6667Tlu2bImqqa+vV2Fhodq2bau0tDQNHTpU5eXlUTWlpaUqKChQq1atlJWVpfvvv1/BYPQLcpcu\n",
              "Xap+/frJ7Xara9euKioqau6v9+1s3/xLksMud9I3W5LD/k0BD9UBAJBQLA1Oy5YtU2FhoVauXKmF\n",
              "CxeqoaFBV155pWprayM148aN0wcffKB33nlHy5Yt0549e3T99ddHjodCIRUUFCgQCGjFihWaPn26\n",
              "ioqKNGnSpEjNjh07VFBQoEGDBqmkpERjx47V6NGjtWDBgrh+30ZtU91KdztlGMbhpQiOmB3euM+T\n",
              "nKS2qW5L+gMAAMdnM45cRMhi+/btU1ZWlpYtW6ZLL71UVVVVat++vWbOnKkbbrhBkrR582Z1795d\n",
              "xcXFGjhwoObNm6drrrlGe/bsUXZ2tiRp2rRpmjBhgvbt2yeXy6UJEyZozpw5Wr9+feSzbr75ZlVW\n",
              "Vmr+/PmmevP5fMrIyFBVVZU8Hs9Jf9cn52zQax/vVOioq2/T4SUJRl3cRb8p6HHSnwMAAGInoeY4\n",
              "VVVVSZLatGkjSVqzZo0aGho0ePDgSE23bt3UqVMnFRcXS5KKi4vVu3fvSGiSpPz8fPl8Pm3YsCFS\n",
              "c+Q5Gmsaz3E8fr9fPp8vaoulG/rnKcV17HIDhqQUl1M3XJAX088DAAAnL2GCUzgc1tixY3XRRRep\n",
              "V69ekqSysjK5XC5lZmZG1WZnZ6usrCxSc2RoajzeeOy7anw+n+rq6o7bz+TJk5WRkRHZ8vJiG2Tm\n",
              "rtsrl9OudqkuuZ12Oe02ub/+2eW085JfAAASUMIEp8LCQq1fv15vvvmm1a1IkiZOnKiqqqrItnv3\n",
              "7pidu74hpPnry+V22GU/6qk6+9cBat6GMpYjAAAgwSTE0tT33HOPZs+erY8++kgdO3aM7M/JyVEg\n",
              "EFBlZWXUqFN5eblycnIiNatXr446X+NTd0fWHP0kXnl5uTwej1JSUo7bk9vtltvdPJOza/xB1fiD\n",
              "OnAooEAorMZZZsGwoX01frkcdtltNl7yCwBAgrF0xMkwDN1zzz167733tHjxYnXp0iXqeP/+/ZWU\n",
              "lKRFixZF9m3ZskWlpaXyer2SJK/Xq3Xr1qmioiJSs3DhQnk8HvXo0SNSc+Q5GmsazxFvaW6nDgWC\n",
              "8gcPh6YjF8A0DMkfDKsuEOSVKwAAJBhL/2YuLCzUzJkz9Y9//EPp6emROUkZGRlKSUlRRkaGRo0a\n",
              "pfHjx6tNmzbyeDy699575fV6NXDgQEnSlVdeqR49emj48OGaOnWqysrK9PDDD6uwsDAyYvSLX/xC\n",
              "zz//vB544AGNHDlSixcv1ttvv605c+ZY9t3rAkesM3Xk3bqvR5/quE0HAEDCsXQ5Apvt+Cs8/u1v\n",
              "f9Ptt98u6fACmL/61a/0xhtvyO/3Kz8/Xy+++GLkNpwk7dq1S2PGjNHSpUuVmpqqESNGaMqUKXI6\n",
              "v8mFS5cu1bhx47Rx40Z17NhRjzzySOQzzIjlcgT/qTyky6YuUTD87TVOu7TsgUH6QWark/osAAAQ\n",
              "Owm1jlMii2lwOnhI//30UoXChuw2m0Lhb/4IHHabwoYhh92mpb/+b/2gNcEJAIBEkTBP1Z1O2qa5\n",
              "5UlOkqTIMgSNW+O76zzJSWqbxsrhAAAkEoKTBZKTHLq+3w/ksNvUEAorZBiRrSEUlsNu09B+P+CJ\n",
              "OgAAEgzBySI/v+wsnZ2VJkNSQ8iIbIaks7PTdddlZ1ndIgAAOArBySJfVftVeuCQwkfNMAsbUun+\n",
              "Wh2oDVjTGAAA+FYEJ4tM+sd61fpDcjtsSnbaI5vbYVOtP6RHZq3//pMAAIC4IjhZoOpQQCVfVslu\n",
              "k+x2u2w2W2Sz2+2y26S1uytVdYhRJwAAEgnByQLl1X6Fw4Zs9uOvY2Wz2xQOGyqv9se5MwAA8F0I\n",
              "ThbITnfLbrfJOHqC09eMsCG73absdJYjAAAgkRCcLJDRyqW+HTMUNqRwOHr58HA4rLAhnZ+XqYxW\n",
              "Los6BAAAx0Nwssjv/r/eSk92KhAyFAiG1BAOKxAMKRAylJ7s1BPX9bK6RQAAcBSCk0XOyU7X/475\n",
              "oS7s0kYOh10yJIfDrgu7tNH/jvmhzslOt7pFAABwFN5VZ1Is31V3tN0HarSprEbdc9KU1yYtpucG\n",
              "AACx47S6gdPZ5r0+TfrHepV8WaVQ+PCLfc/Py9QT1/VixAkAgATEiJNJsR5x2rzXpxumFavGHzzm\n",
              "WJrbqXfv5nYdAACJhjlOFpn47mfHDU2SVOMP6sH/+yzOHQEAgO9DcLJA1aGAPvuy6jtrPmXlcAAA\n",
              "Eg7ByQK7DxxS6HtukIaMw3UAACBxEJws0CrZEdM6AAAQHwQnC4S/5VUrTa0DAADxQXCywJay6pjW\n",
              "AQCA+CA4WaB1irl30JmtAwAA8UFwskCyy9zcJbN1AAAgPghOFnDabTGtAwAA8UFwsoDdZi4Qma0D\n",
              "AADxQXCyQEYrc68INFsHAADig+BkgboGc8sMmK0DAADxQXCyQHa6+3vnLzntNmWnu+PUEQAAMIPg\n",
              "ZIGMVi4lfc8Dcy6nTRmtWI4AAIBEQnCyQNWhwPfehjsUCPOSXwAAEgzByQJf7KuJaR0AAIgPgpMF\n",
              "DJmb9G22DgAAxAfByQJ5rVvFtA4AAMQHwckCDSFzI0lm6wAAQHwQnCzgD4ZiWgcAAOKD4GQFs29S\n",
              "4Y0rAAAkFIKTFQyTichsHQAAiAuCkwXKqupiWgcAAOKD4GSBzXt9Ma0DAADxQXCyQCvX97xv5QTr\n",
              "AABAfBCcLOCwm7vsZusAAEB88DezBbq0T41pHQAAiA+CkwXapLpjWgcAAOKD4GQBd5K5y262DgAA\n",
              "xAd/M1sgHA7HtA4AAMQHwckCe6r8Ma0DAADxQXCyQG6GublLZusAAEB8EJwscLA2ENM6AAAQHwQn\n",
              "C2wpq4lpHQAAiA+CkwVat3LFtA4AAMQHwckCZ2alxbQOAADEB8HJAm1TzY0kma0DAADxQXCyQI0/\n",
              "GNM6AAAQHwQnC/iDoZjWAQCA+CA4WcEW4zoAABAXBCcrGDGuAwAAcUFwsgRDTgAAtEQEJwsEguZe\n",
              "3mu2DgAAxIelwemjjz7Stddeq9zcXNlsNs2aNSvquGEYmjRpkjp06KCUlBQNHjxYW7dujao5cOCA\n",
              "br31Vnk8HmVmZmrUqFGqqYlecfuzzz7TJZdcouTkZOXl5Wnq1KnN/dW+08FD5l7ea7YOAADEh6XB\n",
              "qba2Vuedd55eeOGF4x6fOnWqnn32WU2bNk2rVq1Samqq8vPzVV9fH6m59dZbtWHDBi1cuFCzZ8/W\n",
              "Rx99pLvuuity3Ofz6corr1Tnzp21Zs0a/f73v9djjz2ml19+udm/37fZ56v//qITqAMAAPHhtPLD\n",
              "hwwZoiFDhhz3mGEY+vOf/6yHH35YP/nJTyRJf//735Wdna1Zs2bp5ptv1qZNmzR//nx98sknuuCC\n",
              "CyRJzz33nK6++mo9/fTTys3N1euvv65AIKDXXntNLpdLPXv2VElJif74xz9GBax42l/bENM6AAAQ\n",
              "Hwk7x2nHjh0qKyvT4MGDI/syMjI0YMAAFRcXS5KKi4uVmZkZCU2SNHjwYNntdq1atSpSc+mll8rl\n",
              "+mYV7vz8fG3ZskUHDx781s/3+/3y+XxRW6z8IDM5pnUAACA+EjY4lZWVSZKys7Oj9mdnZ0eOlZWV\n",
              "KSsrK+q40+lUmzZtomqOd44jP+N4Jk+erIyMjMiWl5d3cl/oCIbJp+XM1gEAgPhI2OBktYkTJ6qq\n",
              "qiqy7d69O2bndpjMQ2brAABAfCRscMrJyZEklZeXR+0vLy+PHMvJyVFFRUXU8WAwqAMHDkTVHO8c\n",
              "R37G8bjdbnk8nqgtVtKSzU0tM1sHAADiI2GDU5cuXZSTk6NFixZF9vl8Pq1atUper1eS5PV6VVlZ\n",
              "qTVr1kRqFi9erHA4rAEDBkRqPvroIzU0fDPReuHChTr33HPVunXrOH2baE67uctutg4AAMSHpX8z\n",
              "19TUqKSkRCUlJZIOTwgvKSlRaWmpbDabxo4dq9/97nd6//33tW7dOv3sZz9Tbm6urrvuOklS9+7d\n",
              "ddVVV+nOO+/U6tWrtXz5ct1zzz26+eablZubK0m65ZZb5HK5NGrUKG3YsEFvvfWWnnnmGY0fP96i\n",
              "by2V+cytz2S2DgAAxIel94L+9a9/adCgQZGfG8PMiBEjVFRUpAceeEC1tbW66667VFlZqYsvvljz\n",
              "589XcvI3T5u9/vrruueee3TFFVfIbrdr6NChevbZZyPHMzIy9OGHH6qwsFD9+/dXu3btNGnSJMuW\n",
              "IpCkQEMwpnUAACA+bIZh8CpZE3w+nzIyMlRVVXXS853eX7tb97312ffWPTusj358fuye5gMAACeH\n",
              "STQWKD1QG9M6AAAQHwQnCxw8ZG5FcLN1AAAgPghOFshMSYppHQAAiA+CEwAAgEkEJwskuxwxrQMA\n",
              "APFBcLJAZrLr+4tOoA4AAMQHwckCndulxrQOAADEB8HJAl/sq4lpHQAAiA+CkwUO1ph7lYrZOgAA\n",
              "EB8EJwscCph7lYrZOgAAEB8EJwtUVNfHtA4AAMQHwckCNfXmRpLM1gEAgPggOFnA5bDFtA4AAMQH\n",
              "wckCYcNcIDJbBwAA4oPgZIHdB2pjWgcAAOKD4GSBfbXmlhkwWwcAAOKD4GSBzhmtYloHAADig+Bk\n",
              "gZ6dMmNaBwAA4oPgZIHyKnO34MzWAQCA+CA4WWDT3sqY1gEAgPggOFkgLJPLEZisAwAA8UFwskCb\n",
              "FFdM6wAAQHwQnCxgN7kiuNk6AAAQHwQnCxw0uT6T2ToAABAfBCcL1DY0xLQOAADEB8HJAqGgEdM6\n",
              "AAAQHwQnC9T7wzGtAwAA8UFwskCNyTtwZusAAEB8EJwsYDYPkZsAAEgsBCcAAACTCE4AAAAmEZwA\n",
              "AABMIjgBAACYRHACAAAwieAEAABgEsEJAADAJIITAACASQQnAAAAkwhOAAAAJhGcAAAATCI4AQAA\n",
              "mERwAgAAMMlpdQMAAADf54wH50T+feeUAsv6IDgBAICEdWRgOnqfFQGKW3UAACAhHS80ncjx5kBw\n",
              "AgAAMIngBAAAEo7Z0aR4jzoRnAAAAEwiOAEAAJhEcAIAADCJ4AQAAGASwQkAAMAkghMAAIBJBCcA\n",
              "AACTCE4AAAAmEZwAAABMOq2C0wsvvKAzzjhDycnJGjBggFavXm11SwAAoAU5bYLTW2+9pfHjx+vR\n",
              "Rx/Vv//9b5133nnKz89XRUWF1a0BAIAW4rQJTn/84x9155136o477lCPHj00bdo0tWrVSq+99prV\n",
              "rQEAgBbitAhOgUBAa9as0eDBgyP77Ha7Bg8erOLiYgs7AwAALYnT6gbi4auvvlIoFFJ2dnbU/uzs\n",
              "bG3evPm4v+P3++X3+yM/+3y+Zu0RAAAkvtNixKkpJk+erIyMjMiWl5dndUsAAMBip0VwateunRwO\n",
              "h8rLy6P2l5eXKycn57i/M3HiRFVVVUW23bt3x6NVAAAg6e27BsS0LlZOi+DkcrnUv39/LVq0KLIv\n",
              "HA5r0aJF8nq9x/0dt9stj8cTtcXKzikFMa0DAOBUc+GZ7WJaFyunRXCSpPHjx+uVV17R9OnTtWnT\n",
              "Jo0ZM0a1tbW64447rG4NAAAcx5jLzjyp483htJgcLknDhg3Tvn37NGnSJJWVlalv376aP3/+MRPG\n",
              "42XnlAKd8eCc7zwOAMDpbMKQ7pKkl5ZtP+bYmMvOjByPJ5thGEbcP7UF8vl8ysjIUFVVVUxv20mK\n",
              "ClAEJgAAjrV6+1dasmWfBp3bPu63545EcDKpOYMTAABoGU6bOU4AAAAni+AEAABgEsEJAADAJIIT\n",
              "AACASQQnAAAAkwhOAAAAJhGcAAAATCI4AQAAmERwAgAAMIngBAAAYBLBCQAAwCSCEwAAgEkEJwAA\n",
              "AJMITgAAACYRnAAAAEwiOAEAAJjktLqBlsIwDEmSz+ezuBMAANAc0tPTZbPZvrOG4GRSdXW1JCkv\n",
              "L8/iTgAAQHOoqqqSx+P5zhqb0TiUgu8UDoe1Z88eU2n0RPl8PuXl5Wn37t3f+weGk8O1ji+ud3xx\n",
              "veOL6x1f8bjejDjFkN1uV8eOHZv1MzweD//jixOudXxxveOL6x1fXO/4svp6MzkcAADAJIITAACA\n",
              "SQSnBOB2u/Xoo4/K7XZb3copj2sdX1zv+OJ6xxfXO74S5XozORwAAMAkRpwAAABMIjgBAACYRHAC\n",
              "AAAwieAUBy+88ILOOOMMJScna8CAAVq9evV31r/zzjvq1q2bkpOT1bt3b82dOzdOnZ4aTuR6v/LK\n",
              "K7rkkkvUunVrtW7dWoMHD/7ePx9EO9H/vhu9+eabstlsuu6665q3wVPMiV7vyspKFRYWqkOHDnK7\n",
              "3TrnnHP4/5QTcKLX+89//rPOPfdcpaSkKC8vT+PGjVN9fX2cum3ZPvroI1177bXKzc2VzWbTrFmz\n",
              "vvd3li5dqn79+sntdqtr164qKipq9j5loFm9+eabhsvlMl577TVjw4YNxp133mlkZmYa5eXlx61f\n",
              "vny54XA4jKlTpxobN240Hn74YSMpKclYt25dnDtvmU70et9yyy3GCy+8YKxdu9bYtGmTcfvttxsZ\n",
              "GRnGl19+GefOW6YTvd6NduzYYfzgBz8wLrnkEuMnP/lJfJo9BZzo9fb7/cYFF1xgXH311cbHH39s\n",
              "7Nixw1i6dKlRUlIS585bphO93q+//rrhdruN119/3dixY4exYMECo0OHDsa4cePi3HnLNHfuXOOh\n",
              "hx4y3n33XUOS8d57731n/fbt241WrVoZ48ePNzZu3Gg899xzhsPhMObPn9+sfRKcmtmFF15oFBYW\n",
              "Rn4OhUJGbm6uMXny5OPW33TTTUZBQUHUvgEDBhg///nPm7XPU8WJXu+jBYNBIz093Zg+fXpztXhK\n",
              "acr1DgaDxg9/+EPj1VdfNUaMGEFwOgEner1feukl48wzzzQCgUC8WjylnOj1LiwsNC6//PKofePH\n",
              "jzcuuuiiZu3zVGQmOD3wwANGz549o/YNGzbMyM/Pb8bODINbdc0oEAhozZo1Gjx4cGSf3W7X4MGD\n",
              "VVxcfNzfKS4ujqqXpPz8/G+txzeacr2PdujQITU0NKhNmzbN1eYpo6nX+/HHH1dWVpZGjRoVjzZP\n",
              "GU253u+//768Xq8KCwuVnZ2tXr166amnnlIoFIpX2y1WU673D3/4Q61ZsyZyO2/79u2aO3eurr76\n",
              "6rj0fLqx6u9L3lXXjL766iuFQiFlZ2dH7c/OztbmzZuP+ztlZWXHrS8rK2u2Pk8VTbneR5swYYJy\n",
              "c3OP+R8jjtWU6/3xxx/rr3/9q0pKSuLQ4amlKdd7+/btWrx4sW699VbNnTtX27Zt0913362GhgY9\n",
              "+uij8Wi7xWrK9b7lllv01Vdf6eKLL5ZhGAoGg/rFL36h3/zmN/Fo+bTzbX9f+nw+1dXVKSUlpVk+\n",
              "lxEn4GtTpkzRm2++qffee0/JyclWt3PKqa6u1vDhw/XKK6+oXbt2VrdzWgiHw8rKytLLL7+s/v37\n",
              "a9iwYXrooYc0bdo0q1s7JS1dulRPPfWUXnzxRf373//Wu+++qzlz5uiJJ56wujXEECNOzahdu3Zy\n",
              "OBwqLy+P2l9eXq6cnJzj/k5OTs4J1eMbTbnejZ5++mlNmTJF//znP9WnT5/mbPOUcaLX+4svvtDO\n",
              "nTt17bXXRvaFw2FJktPp1JYtW3TWWWc1b9MtWFP+++7QoYOSkpLkcDgi+7p3766ysjIFAgG5XK5m\n",
              "7bkla8r1fuSRRzR8+HCNHj1aktS7d2/V1tbqrrvu0kMPPSS7nbGKWPq2vy89Hk+zjTZJjDg1K5fL\n",
              "pf79+2vRokWRfeFwWIsWLZLX6z3u73i93qh6SVq4cOG31uMbTbnekjR16lQ98cQTmj9/vi644IJ4\n",
              "tHpKONHr3a1bN61bt04lJSWR7cc//rEGDRqkkpIS5eXlxbP9Fqcp/31fdNFF2rZtWySgStLnn3+u\n",
              "Dh06EJq+R1Ou96FDh44JR42h1eDtZjFn2d+XzTr1HMabb75puN1uo6ioyNi4caNx1113GZmZmUZZ\n",
              "WZlhGIYxfPhw48EHH4zUL1++3HA6ncbTTz9tbNq0yXj00UdZjuAEnOj1njJliuFyuYz//d//Nfbu\n",
              "3RvZqqurrfoKLcqJXu+j8VTdiTnR611aWmqkp6cb99xzj7FlyxZj9uzZRlZWlvG73/3Oqq/Qopzo\n",
              "9X700UeN9PR044033jC2b99ufPjhh8ZZZ51l3HTTTVZ9hRalurraWLt2rbF27VpDkvHHP/7RWLt2\n",
              "rbFr1y7DMAzjwQcfNIYPHx6pb1yO4P777zc2bdpkvPDCCyxHcKp47rnnjE6dOhkul8u48MILjZUr\n",
              "V0aOXXbZZcaIESOi6t9++23jnHPOMVwul9GzZ09jzpw5ce64ZTuR6925c2dD0jHbo48+Gv/GW6gT\n",
              "/e/7SASnE3ei13vFihXGgAEDDLfbbZx55pnGk08+aQSDwTh33XKdyPVuaGgwHnvsMeOss84ykpOT\n",
              "jby8POPuu+82Dh48GP/GW6AlS5Yc9/+PG6/xiBEjjMsuu+yY3+nbt6/hcrmMM8880/jb3/7W7H3a\n",
              "DIPxQwAAADOY4wQAAGASwQkAAMAkghMAAIBJBCcAAACTCE4AAAAmEZwAAABMIjgBAACYRHACAAAw\n",
              "ieAE4JT13//93xo7dqyp2qVLl8pms6mysvKkPvOMM87Qn//855M6B4DERXACAAAwieAEAABgEsEJ\n",
              "wGnhf/7nf3TBBRcoPT1dOTk5uuWWW1RRUXFM3fLly9WnTx8lJydr4MCBWr9+fdTxjz/+WJdccolS\n",
              "UlKUl5en++67T7W1tfH6GgAsRnACcFpoaGjQE088oU8//VSzZs3Szp07dfvttx9Td//99+sPf/iD\n",
              "PvnkE7Vv317XXnutGhoaJElffPGFrrrqKg0dOlSfffaZ3nrrLX388ce655574vxtAFjFaXUDABAP\n",
              "I0eOjPz7mWeeqWeffVb/9V//pZqaGqWlpUWOPfroo/rRj34kSZo+fbo6duyo9957TzfddJMmT56s\n",
              "W2+9NTLh/Oyzz9azzz6ryy67TC+99JKSk5Pj+p0AxB8jTgBOC2vWrNG1116rTp06KT09XZdddpkk\n",
              "qbS0NKrO6/VG/r1NmzY699xztWnTJknSp59+qqKiIqWlpUW2/Px8hcNh7dixI35fBoBlGHECcMqr\n",
              "ra1Vfn6+8vPz9frrr6t9+/YqLS1Vfn6+AoGA6fPU1NTo5z//ue67775jjnXq1CmWLQNIUAQnAKe8\n",
              "zZs3a//+/ZoyZYry8vIkSf/617+OW7ty5cpICDp48KA+//xzde/eXZLUr18/bdy4UV27do1P4wAS\n",
              "DrfqAJzyOnXqJJfLpeeee07bt2/X+++/ryeeeOK4tY8//rgWLVqk9evX6/bbb1e7du103XXXSZIm\n",
              "TJigFStW6J577lFJSYm2bt2qf/zjH0wOB04jBCcAp7z27durqKhI77zzjnr06KEpU6bo6aefPm7t\n",
              "lClT9Mtf/lL9+/dXWVmZPvjgA7lcLklSnz59tGzZMn3++ee65JJLdP7552vSpEnKzc2N59cBYCGb\n",
              "YRiG1U0AAAC0BIw4AQAAmERwAgAAMIngBAAAYBLBCQAAwCSCEwAAgEkEJwAAAJMITgAAACYRnAAA\n",
              "AEwiOAEAAJhEcAIAADCJ4AQAAGASwQkAAMCk/x8rzp9Az0kVAQAAAABJRU5ErkJggg==\n",
              "\">\n",
              "        <script></script>"
            ],
            "text/plain": [
              "<google.colab._quickchart_lib.MplChart at 0x78af0e0c8fa0>"
            ]
          },
          "metadata": {},
          "execution_count": 18
        }
      ]
    },
    {
      "cell_type": "code",
      "source": [
        "train_data_sj = train_data_sj.drop(train_data_sj.loc[train_data_sj['len'] == 7019.000000].index)"
      ],
      "metadata": {
        "id": "aeTX8WMO9ZgJ"
      },
      "execution_count": null,
      "outputs": []
    }
  ]
}